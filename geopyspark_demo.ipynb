{
 "cells": [
  {
   "cell_type": "code",
   "execution_count": 1,
   "metadata": {},
   "outputs": [],
   "source": [
    "#!pip install geopyspark\n",
    "#https://pypi.org/project/geopyspark/\n",
    "#https://geopyspark.readthedocs.io/en/latest/guides/visualization.html"
   ]
  },
  {
   "cell_type": "code",
   "execution_count": 2,
   "metadata": {},
   "outputs": [],
   "source": [
    "#!export SPARK_HOME=\"/usr/local/Cellar/apache-spark/2.4.4/libexec/\"\n",
    "!export SPARK_HOME=\"/opt/conda/lib/python3.7/site-packages/pyspark/\""
   ]
  },
  {
   "cell_type": "code",
   "execution_count": 3,
   "metadata": {},
   "outputs": [],
   "source": [
    "# Importing our libraries\n",
    "import os\n",
    "os.environ[\"SPARK_HOME\"] = \"/opt/conda/lib/python3.7/site-packages/pyspark/\"\n",
    "#\"/usr/local/Cellar/apache-spark/2.4.4/libexec/\"\n",
    "import geopyspark as gps\n",
    "import numpy as np\n",
    "import pyproj\n",
    "import fiona\n",
    "import folium\n",
    "\n",
    "from functools import partial\n",
    "from shapely.geometry import Point\n",
    "from shapely.ops import transform\n",
    "from pyspark import SparkContext, StorageLevel\n",
    "from pyspark.sql import SparkSession"
   ]
  },
  {
   "cell_type": "code",
   "execution_count": 4,
   "metadata": {},
   "outputs": [],
   "source": [
    "#!geopyspark install-jar\n",
    "#\n",
    "#jarspath = \"/usr/local/Cellar/apache-spark/2.4.4/libexec/jars/\"\n",
    "#!geopyspark install-jar -p \"\"/opt/conda/lib/python3.7/site-packages/pyspark/jars/\"\n",
    "#cp geopyspark/jars/geotrellis-backend-assembly-0.4.3.jar pyspark/jars"
   ]
  },
  {
   "cell_type": "code",
   "execution_count": 5,
   "metadata": {},
   "outputs": [],
   "source": [
    "#!wget https://s3.amazonaws.com/geopyspark-test/example-files/cropped.tif"
   ]
  },
  {
   "cell_type": "code",
   "execution_count": 6,
   "metadata": {},
   "outputs": [],
   "source": [
    "#!pip install colortools"
   ]
  },
  {
   "cell_type": "code",
   "execution_count": 7,
   "metadata": {},
   "outputs": [],
   "source": [
    "import geopyspark as gps\n",
    "import matplotlib.pyplot as plt\n",
    "\n",
    "from colortools import Color\n",
    "from pyspark import SparkContext\n",
    "\n",
    "%matplotlib inline\n",
    "\n",
    "conf = gps.geopyspark_conf(master=\"local[*]\", appName=\"visualization\")\n",
    "\n",
    "pysc = SparkContext(conf=conf)\n"
   ]
  },
  {
   "cell_type": "code",
   "execution_count": 8,
   "metadata": {},
   "outputs": [],
   "source": [
    "#raster_layer = gps.geotiff.get(layer_type=gps.LayerType.SPATIAL, uri=\"file:///tmp/cropped.tif\")\n",
    "\n",
    "#raster_layer = gps.geotiff.get(layer_type=gps.LayerType.SPATIAL, uri=\"tmp/cropped.tif\")\n",
    "#tiled_layer = raster_layer.tile_to_layout(layout=gps.GlobalLayout(), target_crs=3857)"
   ]
  },
  {
   "cell_type": "code",
   "execution_count": 9,
   "metadata": {},
   "outputs": [],
   "source": [
    "import datetime\n",
    "import geopyspark as gps\n",
    "import numpy as np\n",
    "\n",
    "#from pyspark import SparkContext\n",
    "from shapely.geometry import MultiPolygon, box\n",
    "\n",
    "#conf = gps.geopyspark_conf(master=\"local[*]\", appName=\"layers\")\n",
    "#pysc = SparkContext(conf=conf)"
   ]
  },
  {
   "cell_type": "code",
   "execution_count": 10,
   "metadata": {},
   "outputs": [
    {
     "data": {
      "text/plain": [
       "TiledRasterLayer(layer_type=LayerType.SPATIAL, zoom_level=11, is_floating_point_layer=False)"
      ]
     },
     "execution_count": 10,
     "metadata": {},
     "output_type": "execute_result"
    }
   ],
   "source": [
    "# Setting up the Spatial Data to be used in this example\n",
    "\n",
    "pathtif = \"/home/jovyan/work/bigdata/geospatial_libs/tmp/cropped.tif\"\n",
    "\n",
    "\n",
    "spatial_raster_layer = gps.geotiff.get(layer_type=gps.LayerType.SPATIAL, uri=\"./temp/cropped.tif\")\n",
    "#spatial_raster_layer = gps.geotiff.get(layer_type=gps.LayerType.SPATIAL, uri=pathtif)\n",
    "#spatial_raster_layer = gps.geotiff.get(layer_type=gps.LayerType.SPATIAL, uri=\"file:////home/jovyan/work/bigdata/geospatial_libs/temp/cropped.tif\")\n",
    "\n",
    "spatial_tiled_layer = spatial_raster_layer.tile_to_layout(layout=gps.GlobalLayout(), target_crs=3857)\n",
    "\n",
    "# Setting up the Spatial-Temporal Data to be used in this example\n",
    "\n",
    "def make_raster(x, y, v, cols=4, rows=4, crs=4326):\n",
    "    cells = np.zeros((1, rows, cols), dtype='float32')\n",
    "    cells.fill(v)\n",
    "    # extent of a single cell is 1\n",
    "    extent = gps.TemporalProjectedExtent(extent = gps.Extent(x, y, x + cols, y + rows),\n",
    "                                         epsg=crs,\n",
    "                                         instant=datetime.datetime.now())\n",
    "\n",
    "    return (extent, gps.Tile.from_numpy_array(cells))\n",
    "\n",
    "layer = [\n",
    "    make_raster(0, 0, v=1),\n",
    "    make_raster(3, 2, v=2),\n",
    "    make_raster(6, 0, v=3)\n",
    "]\n",
    "\n",
    "spatial_tiled_layer\n",
    "\n",
    "#rdd = pysc.parallelize(layer)\n",
    "#space_time_raster_layer = gps.RasterLayer.from_numpy_rdd(gps.LayerType.SPACETIME, rdd)\n",
    "#space_time_tiled_layer = space_time_raster_layer.tile_to_layout(layout=gps.GlobalLayout(tile_size=5))\n",
    "#space_time_pyramid = space_time_tiled_layer.pyramid()"
   ]
  },
  {
   "cell_type": "code",
   "execution_count": 11,
   "metadata": {},
   "outputs": [],
   "source": [
    "pyramided = spatial_tiled_layer.pyramid()"
   ]
  },
  {
   "cell_type": "code",
   "execution_count": 12,
   "metadata": {},
   "outputs": [
    {
     "data": {
      "text/plain": [
       "Pyramid(layer_type=LayerType.SPATIAL, max_zoom=12, num_levels=13, is_cached=False)"
      ]
     },
     "execution_count": 12,
     "metadata": {},
     "output_type": "execute_result"
    }
   ],
   "source": [
    "gps.Pyramid([spatial_tiled_layer.tile_to_layout(gps.GlobalLayout(zoom=x)) for x in range(0, 13)])"
   ]
  },
  {
   "cell_type": "code",
   "execution_count": 13,
   "metadata": {},
   "outputs": [
    {
     "data": {
      "text/plain": [
       "Pyramid(layer_type=LayerType.SPATIAL, max_zoom=12, num_levels=13, is_cached=False)"
      ]
     },
     "execution_count": 13,
     "metadata": {},
     "output_type": "execute_result"
    }
   ],
   "source": [
    "gps.Pyramid({x: spatial_tiled_layer.tile_to_layout(gps.GlobalLayout(zoom=x)) for x in range(0, 13)})"
   ]
  },
  {
   "cell_type": "code",
   "execution_count": 14,
   "metadata": {},
   "outputs": [
    {
     "data": {
      "text/plain": [
       "<geopyspark.geotrellis.histogram.Histogram at 0x7f22d0810e80>"
      ]
     },
     "execution_count": 14,
     "metadata": {},
     "output_type": "execute_result"
    }
   ],
   "source": [
    "\n",
    "%matplotlib inline\n",
    "\n",
    "hist = pyramided.get_histogram()\n",
    "hist"
   ]
  },
  {
   "cell_type": "code",
   "execution_count": null,
   "metadata": {},
   "outputs": [],
   "source": []
  }
 ],
 "metadata": {
  "kernelspec": {
   "display_name": "Python 3",
   "language": "python",
   "name": "python3"
  },
  "language_info": {
   "codemirror_mode": {
    "name": "ipython",
    "version": 3
   },
   "file_extension": ".py",
   "mimetype": "text/x-python",
   "name": "python",
   "nbconvert_exporter": "python",
   "pygments_lexer": "ipython3",
   "version": "3.7.3"
  }
 },
 "nbformat": 4,
 "nbformat_minor": 2
}
